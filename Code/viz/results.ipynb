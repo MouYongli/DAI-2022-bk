{
 "cells": [
  {
   "cell_type": "code",
   "execution_count": 2,
   "id": "c7afd6cd-69e1-4b00-93b7-20c0ca1ddaa1",
   "metadata": {},
   "outputs": [],
   "source": [
    "import os\n",
    "import os.path as osp\n",
    "import numpy as np\n",
    "import pandas as pd\n",
    "import matplotlib.pyplot as plt"
   ]
  },
  {
   "cell_type": "code",
   "execution_count": 3,
   "id": "c3582678-0867-48c0-89bd-781af09d6b9d",
   "metadata": {},
   "outputs": [
    {
     "name": "stdout",
     "output_type": "stream",
     "text": [
      "/home/jiahui/FL-NeurIPS-2022/Code/viz\n"
     ]
    }
   ],
   "source": [
    "here = os.getcwd()\n",
    "print(here)\n",
    "exp_base_dir = osp.join(here, \"../../Experiments\")\n",
    "dist_list = [\"d_60000_73257_7291_479400_60000\", \"d_7291_7291_7291_7291_7291\"]\n",
    "method_list = [\"fedavg\", \"fedprox\", \"fedbn\", \"single\"]\n",
    "setting_list = [\"\",]"
   ]
  },
  {
   "cell_type": "code",
   "execution_count": null,
   "id": "479d1289-3c37-478b-9e18-d28baed4029d",
   "metadata": {},
   "outputs": [],
   "source": []
  }
 ],
 "metadata": {
  "kernelspec": {
   "display_name": "Python 3 (ipykernel)",
   "language": "python",
   "name": "python3"
  },
  "language_info": {
   "codemirror_mode": {
    "name": "ipython",
    "version": 3
   },
   "file_extension": ".py",
   "mimetype": "text/x-python",
   "name": "python",
   "nbconvert_exporter": "python",
   "pygments_lexer": "ipython3",
   "version": "3.9.12"
  }
 },
 "nbformat": 4,
 "nbformat_minor": 5
}
